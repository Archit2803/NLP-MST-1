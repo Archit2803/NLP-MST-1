{
 "cells": [
  {
   "cell_type": "code",
   "execution_count": 1,
   "metadata": {},
   "outputs": [
    {
     "name": "stderr",
     "output_type": "stream",
     "text": [
      "[nltk_data] Downloading package punkt to\n",
      "[nltk_data]     C:\\Users\\Archit\\AppData\\Roaming\\nltk_data...\n",
      "[nltk_data]   Package punkt is already up-to-date!\n",
      "[nltk_data] Downloading package wordnet to\n",
      "[nltk_data]     C:\\Users\\Archit\\AppData\\Roaming\\nltk_data...\n",
      "[nltk_data]   Package wordnet is already up-to-date!\n",
      "[nltk_data] Downloading package stopwords to\n",
      "[nltk_data]     C:\\Users\\Archit\\AppData\\Roaming\\nltk_data...\n",
      "[nltk_data]   Package stopwords is already up-to-date!\n"
     ]
    }
   ],
   "source": [
    "import nltk\n",
    "nltk.download('punkt')\n",
    "nltk.download('wordnet')\n",
    "from nltk.tokenize import sent_tokenize, word_tokenize,regexp_tokenize\n",
    "import pandas as pd\n",
    "from nltk.stem import PorterStemmer,WordNetLemmatizer\n",
    "from nltk.corpus import stopwords\n",
    "nltk.download('stopwords')\n",
    "from collections import Counter\n",
    "import re\n",
    "import numpy as np \n",
    "\n"
   ]
  },
  {
   "cell_type": "code",
   "execution_count": 2,
   "metadata": {},
   "outputs": [],
   "source": [
    "story = \" In the quiet town of Willowbrook, nestled between rolling hills and meandering streams, there stood an old bookstore with a weathered sign that read: Whispers of Time. It was a quaint little place, filled to the brim with dusty tomes and forgotten tales. And within its walls lay a secret—a tale waiting to be unearthed. One dreary afternoon, Emily, a young woman with an insatiable curiosity, stumbled upon the bookstore. She had always been drawn to the mystery of old books and the stories they held within their pages. As she perused the shelves, her eyes fell upon a small, leather-bound journal tucked away in a corner.Intrigued, Emily carefully lifted the journal from its resting place and began to flip through its yellowed pages. The handwriting within was delicate and faded, but as she read, she felt a sense of wonder wash over her. It was the journal of a traveler—a person who had journeyed to distant lands and encountered wonders beyond imagination.Each page was filled with vivid descriptions of exotic landscapes, ancient ruins, and encounters with strange and wondrous creatures. But amidst the tales of adventure, there were hints of something darker—a looming shadow that seemed to follow the traveler wherever they went.Emily was captivated. She had always dreamt of exploring the world beyond her small town, and here, in this forgotten journal, she found a glimpse of that world laid bare before her. Determined to uncover the truth behind the traveler's story, she set out on a quest to trace their footsteps and unravel the mystery that had been left behind.Armed with the journal as her guide, Emily embarked on a journey that would take her to far-off lands and test the limits of her courage. From bustling marketplaces to treacherous jungles, she followed in the footsteps of the traveler, piecing together clues and uncovering secrets long thought lost to time.But with each discovery came new questions, and Emily soon found herself entangled in a web of mystery and intrigue. Who was the traveler, and what had driven them to seek out such distant and perilous shores? And what was the truth behind the shadow that seemed to haunt their every step?As Emily delved deeper into the heart of the mystery, she soon realized that the answers she sought lay not only in the pages of the journal but within herself as well. For in her quest for truth, she had discovered a strength and resilience she never knew she possessed—a courage that would carry her through even the darkest of times.In the end, it was not just the mystery of the traveler's tale that Emily unraveled, but also the mystery of her own heart. And though the journey had been long and fraught with danger, she emerged from it not as the same timid girl who had entered the bookstore that fateful afternoon, but as a brave and fearless explorer of the world and all its wonders.\""
   ]
  },
  {
   "cell_type": "code",
   "execution_count": 3,
   "metadata": {},
   "outputs": [
    {
     "name": "stdout",
     "output_type": "stream",
     "text": [
      "\n",
      "Sentence Tokenization:\n",
      "[' In the quiet town of Willowbrook, nestled between rolling hills and meandering streams, there stood an old bookstore with a weathered sign that read: Whispers of Time.', 'It was a quaint little place, filled to the brim with dusty tomes and forgotten tales.', 'And within its walls lay a secret—a tale waiting to be unearthed.', 'One dreary afternoon, Emily, a young woman with an insatiable curiosity, stumbled upon the bookstore.', 'She had always been drawn to the mystery of old books and the stories they held within their pages.', 'As she perused the shelves, her eyes fell upon a small, leather-bound journal tucked away in a corner.Intrigued, Emily carefully lifted the journal from its resting place and began to flip through its yellowed pages.', 'The handwriting within was delicate and faded, but as she read, she felt a sense of wonder wash over her.', 'It was the journal of a traveler—a person who had journeyed to distant lands and encountered wonders beyond imagination.Each page was filled with vivid descriptions of exotic landscapes, ancient ruins, and encounters with strange and wondrous creatures.', 'But amidst the tales of adventure, there were hints of something darker—a looming shadow that seemed to follow the traveler wherever they went.Emily was captivated.', 'She had always dreamt of exploring the world beyond her small town, and here, in this forgotten journal, she found a glimpse of that world laid bare before her.', \"Determined to uncover the truth behind the traveler's story, she set out on a quest to trace their footsteps and unravel the mystery that had been left behind.Armed with the journal as her guide, Emily embarked on a journey that would take her to far-off lands and test the limits of her courage.\", 'From bustling marketplaces to treacherous jungles, she followed in the footsteps of the traveler, piecing together clues and uncovering secrets long thought lost to time.But with each discovery came new questions, and Emily soon found herself entangled in a web of mystery and intrigue.', 'Who was the traveler, and what had driven them to seek out such distant and perilous shores?', 'And what was the truth behind the shadow that seemed to haunt their every step?As Emily delved deeper into the heart of the mystery, she soon realized that the answers she sought lay not only in the pages of the journal but within herself as well.', \"For in her quest for truth, she had discovered a strength and resilience she never knew she possessed—a courage that would carry her through even the darkest of times.In the end, it was not just the mystery of the traveler's tale that Emily unraveled, but also the mystery of her own heart.\", 'And though the journey had been long and fraught with danger, she emerged from it not as the same timid girl who had entered the bookstore that fateful afternoon, but as a brave and fearless explorer of the world and all its wonders.']\n"
     ]
    }
   ],
   "source": [
    "sentences = sent_tokenize(story)\n",
    "print(\"\\nSentence Tokenization:\")\n",
    "print(sentences)"
   ]
  },
  {
   "cell_type": "code",
   "execution_count": 4,
   "metadata": {},
   "outputs": [
    {
     "name": "stdout",
     "output_type": "stream",
     "text": [
      "\n",
      "Word Tokenization:\n",
      "['In', 'the', 'quiet', 'town', 'of', 'Willowbrook', ',', 'nestled', 'between', 'rolling', 'hills', 'and', 'meandering', 'streams', ',', 'there', 'stood', 'an', 'old', 'bookstore', 'with', 'a', 'weathered', 'sign', 'that', 'read', ':', 'Whispers', 'of', 'Time', '.', 'It', 'was', 'a', 'quaint', 'little', 'place', ',', 'filled', 'to', 'the', 'brim', 'with', 'dusty', 'tomes', 'and', 'forgotten', 'tales', '.', 'And', 'within', 'its', 'walls', 'lay', 'a', 'secret—a', 'tale', 'waiting', 'to', 'be', 'unearthed', '.', 'One', 'dreary', 'afternoon', ',', 'Emily', ',', 'a', 'young', 'woman', 'with', 'an', 'insatiable', 'curiosity', ',', 'stumbled', 'upon', 'the', 'bookstore', '.', 'She', 'had', 'always', 'been', 'drawn', 'to', 'the', 'mystery', 'of', 'old', 'books', 'and', 'the', 'stories', 'they', 'held', 'within', 'their', 'pages', '.', 'As', 'she', 'perused', 'the', 'shelves', ',', 'her', 'eyes', 'fell', 'upon', 'a', 'small', ',', 'leather-bound', 'journal', 'tucked', 'away', 'in', 'a', 'corner.Intrigued', ',', 'Emily', 'carefully', 'lifted', 'the', 'journal', 'from', 'its', 'resting', 'place', 'and', 'began', 'to', 'flip', 'through', 'its', 'yellowed', 'pages', '.', 'The', 'handwriting', 'within', 'was', 'delicate', 'and', 'faded', ',', 'but', 'as', 'she', 'read', ',', 'she', 'felt', 'a', 'sense', 'of', 'wonder', 'wash', 'over', 'her', '.', 'It', 'was', 'the', 'journal', 'of', 'a', 'traveler—a', 'person', 'who', 'had', 'journeyed', 'to', 'distant', 'lands', 'and', 'encountered', 'wonders', 'beyond', 'imagination.Each', 'page', 'was', 'filled', 'with', 'vivid', 'descriptions', 'of', 'exotic', 'landscapes', ',', 'ancient', 'ruins', ',', 'and', 'encounters', 'with', 'strange', 'and', 'wondrous', 'creatures', '.', 'But', 'amidst', 'the', 'tales', 'of', 'adventure', ',', 'there', 'were', 'hints', 'of', 'something', 'darker—a', 'looming', 'shadow', 'that', 'seemed', 'to', 'follow', 'the', 'traveler', 'wherever', 'they', 'went.Emily', 'was', 'captivated', '.', 'She', 'had', 'always', 'dreamt', 'of', 'exploring', 'the', 'world', 'beyond', 'her', 'small', 'town', ',', 'and', 'here', ',', 'in', 'this', 'forgotten', 'journal', ',', 'she', 'found', 'a', 'glimpse', 'of', 'that', 'world', 'laid', 'bare', 'before', 'her', '.', 'Determined', 'to', 'uncover', 'the', 'truth', 'behind', 'the', 'traveler', \"'s\", 'story', ',', 'she', 'set', 'out', 'on', 'a', 'quest', 'to', 'trace', 'their', 'footsteps', 'and', 'unravel', 'the', 'mystery', 'that', 'had', 'been', 'left', 'behind.Armed', 'with', 'the', 'journal', 'as', 'her', 'guide', ',', 'Emily', 'embarked', 'on', 'a', 'journey', 'that', 'would', 'take', 'her', 'to', 'far-off', 'lands', 'and', 'test', 'the', 'limits', 'of', 'her', 'courage', '.', 'From', 'bustling', 'marketplaces', 'to', 'treacherous', 'jungles', ',', 'she', 'followed', 'in', 'the', 'footsteps', 'of', 'the', 'traveler', ',', 'piecing', 'together', 'clues', 'and', 'uncovering', 'secrets', 'long', 'thought', 'lost', 'to', 'time.But', 'with', 'each', 'discovery', 'came', 'new', 'questions', ',', 'and', 'Emily', 'soon', 'found', 'herself', 'entangled', 'in', 'a', 'web', 'of', 'mystery', 'and', 'intrigue', '.', 'Who', 'was', 'the', 'traveler', ',', 'and', 'what', 'had', 'driven', 'them', 'to', 'seek', 'out', 'such', 'distant', 'and', 'perilous', 'shores', '?', 'And', 'what', 'was', 'the', 'truth', 'behind', 'the', 'shadow', 'that', 'seemed', 'to', 'haunt', 'their', 'every', 'step', '?', 'As', 'Emily', 'delved', 'deeper', 'into', 'the', 'heart', 'of', 'the', 'mystery', ',', 'she', 'soon', 'realized', 'that', 'the', 'answers', 'she', 'sought', 'lay', 'not', 'only', 'in', 'the', 'pages', 'of', 'the', 'journal', 'but', 'within', 'herself', 'as', 'well', '.', 'For', 'in', 'her', 'quest', 'for', 'truth', ',', 'she', 'had', 'discovered', 'a', 'strength', 'and', 'resilience', 'she', 'never', 'knew', 'she', 'possessed—a', 'courage', 'that', 'would', 'carry', 'her', 'through', 'even', 'the', 'darkest', 'of', 'times.In', 'the', 'end', ',', 'it', 'was', 'not', 'just', 'the', 'mystery', 'of', 'the', 'traveler', \"'s\", 'tale', 'that', 'Emily', 'unraveled', ',', 'but', 'also', 'the', 'mystery', 'of', 'her', 'own', 'heart', '.', 'And', 'though', 'the', 'journey', 'had', 'been', 'long', 'and', 'fraught', 'with', 'danger', ',', 'she', 'emerged', 'from', 'it', 'not', 'as', 'the', 'same', 'timid', 'girl', 'who', 'had', 'entered', 'the', 'bookstore', 'that', 'fateful', 'afternoon', ',', 'but', 'as', 'a', 'brave', 'and', 'fearless', 'explorer', 'of', 'the', 'world', 'and', 'all', 'its', 'wonders', '.']\n"
     ]
    }
   ],
   "source": [
    "tokens = word_tokenize(story)\n",
    "print('\\nWord Tokenization:')\n",
    "print(tokens)"
   ]
  },
  {
   "cell_type": "code",
   "execution_count": 5,
   "metadata": {},
   "outputs": [
    {
     "name": "stdout",
     "output_type": "stream",
     "text": [
      "['in', 'the', 'quiet', 'town', 'of', 'willowbrook', ',', 'nestl', 'between', 'roll', 'hill', 'and', 'meander', 'stream', ',', 'there', 'stood', 'an', 'old', 'bookstor', 'with', 'a', 'weather', 'sign', 'that', 'read', ':', 'whisper', 'of', 'time', '.', 'it', 'wa', 'a', 'quaint', 'littl', 'place', ',', 'fill', 'to', 'the', 'brim', 'with', 'dusti', 'tome', 'and', 'forgotten', 'tale', '.', 'and', 'within', 'it', 'wall', 'lay', 'a', 'secret—a', 'tale', 'wait', 'to', 'be', 'unearth', '.', 'one', 'dreari', 'afternoon', ',', 'emili', ',', 'a', 'young', 'woman', 'with', 'an', 'insati', 'curios', ',', 'stumbl', 'upon', 'the', 'bookstor', '.', 'she', 'had', 'alway', 'been', 'drawn', 'to', 'the', 'mysteri', 'of', 'old', 'book', 'and', 'the', 'stori', 'they', 'held', 'within', 'their', 'page', '.', 'as', 'she', 'perus', 'the', 'shelv', ',', 'her', 'eye', 'fell', 'upon', 'a', 'small', ',', 'leather-bound', 'journal', 'tuck', 'away', 'in', 'a', 'corner.intrigu', ',', 'emili', 'care', 'lift', 'the', 'journal', 'from', 'it', 'rest', 'place', 'and', 'began', 'to', 'flip', 'through', 'it', 'yellow', 'page', '.', 'the', 'handwrit', 'within', 'wa', 'delic', 'and', 'fade', ',', 'but', 'as', 'she', 'read', ',', 'she', 'felt', 'a', 'sens', 'of', 'wonder', 'wash', 'over', 'her', '.', 'it', 'wa', 'the', 'journal', 'of', 'a', 'traveler—a', 'person', 'who', 'had', 'journey', 'to', 'distant', 'land', 'and', 'encount', 'wonder', 'beyond', 'imagination.each', 'page', 'wa', 'fill', 'with', 'vivid', 'descript', 'of', 'exot', 'landscap', ',', 'ancient', 'ruin', ',', 'and', 'encount', 'with', 'strang', 'and', 'wondrou', 'creatur', '.', 'but', 'amidst', 'the', 'tale', 'of', 'adventur', ',', 'there', 'were', 'hint', 'of', 'someth', 'darker—a', 'loom', 'shadow', 'that', 'seem', 'to', 'follow', 'the', 'travel', 'wherev', 'they', 'went.emili', 'wa', 'captiv', '.', 'she', 'had', 'alway', 'dreamt', 'of', 'explor', 'the', 'world', 'beyond', 'her', 'small', 'town', ',', 'and', 'here', ',', 'in', 'thi', 'forgotten', 'journal', ',', 'she', 'found', 'a', 'glimps', 'of', 'that', 'world', 'laid', 'bare', 'befor', 'her', '.', 'determin', 'to', 'uncov', 'the', 'truth', 'behind', 'the', 'travel', \"'s\", 'stori', ',', 'she', 'set', 'out', 'on', 'a', 'quest', 'to', 'trace', 'their', 'footstep', 'and', 'unravel', 'the', 'mysteri', 'that', 'had', 'been', 'left', 'behind.arm', 'with', 'the', 'journal', 'as', 'her', 'guid', ',', 'emili', 'embark', 'on', 'a', 'journey', 'that', 'would', 'take', 'her', 'to', 'far-off', 'land', 'and', 'test', 'the', 'limit', 'of', 'her', 'courag', '.', 'from', 'bustl', 'marketplac', 'to', 'treacher', 'jungl', ',', 'she', 'follow', 'in', 'the', 'footstep', 'of', 'the', 'travel', ',', 'piec', 'togeth', 'clue', 'and', 'uncov', 'secret', 'long', 'thought', 'lost', 'to', 'time.but', 'with', 'each', 'discoveri', 'came', 'new', 'question', ',', 'and', 'emili', 'soon', 'found', 'herself', 'entangl', 'in', 'a', 'web', 'of', 'mysteri', 'and', 'intrigu', '.', 'who', 'wa', 'the', 'travel', ',', 'and', 'what', 'had', 'driven', 'them', 'to', 'seek', 'out', 'such', 'distant', 'and', 'peril', 'shore', '?', 'and', 'what', 'wa', 'the', 'truth', 'behind', 'the', 'shadow', 'that', 'seem', 'to', 'haunt', 'their', 'everi', 'step', '?', 'as', 'emili', 'delv', 'deeper', 'into', 'the', 'heart', 'of', 'the', 'mysteri', ',', 'she', 'soon', 'realiz', 'that', 'the', 'answer', 'she', 'sought', 'lay', 'not', 'onli', 'in', 'the', 'page', 'of', 'the', 'journal', 'but', 'within', 'herself', 'as', 'well', '.', 'for', 'in', 'her', 'quest', 'for', 'truth', ',', 'she', 'had', 'discov', 'a', 'strength', 'and', 'resili', 'she', 'never', 'knew', 'she', 'possessed—a', 'courag', 'that', 'would', 'carri', 'her', 'through', 'even', 'the', 'darkest', 'of', 'times.in', 'the', 'end', ',', 'it', 'wa', 'not', 'just', 'the', 'mysteri', 'of', 'the', 'travel', \"'s\", 'tale', 'that', 'emili', 'unravel', ',', 'but', 'also', 'the', 'mysteri', 'of', 'her', 'own', 'heart', '.', 'and', 'though', 'the', 'journey', 'had', 'been', 'long', 'and', 'fraught', 'with', 'danger', ',', 'she', 'emerg', 'from', 'it', 'not', 'as', 'the', 'same', 'timid', 'girl', 'who', 'had', 'enter', 'the', 'bookstor', 'that', 'fate', 'afternoon', ',', 'but', 'as', 'a', 'brave', 'and', 'fearless', 'explor', 'of', 'the', 'world', 'and', 'all', 'it', 'wonder', '.']\n"
     ]
    }
   ],
   "source": [
    "stemmer = PorterStemmer()\n",
    "stemmed_words = [stemmer.stem(word)  for word in tokens]\n",
    "print(stemmed_words)\n"
   ]
  },
  {
   "cell_type": "code",
   "execution_count": 6,
   "metadata": {},
   "outputs": [
    {
     "name": "stdout",
     "output_type": "stream",
     "text": [
      "['In', 'the', 'quiet', 'town', 'of', 'Willowbrook', ',', 'nestled', 'between', 'rolling', 'hill', 'and', 'meandering', 'stream', ',', 'there', 'stood', 'an', 'old', 'bookstore', 'with', 'a', 'weathered', 'sign', 'that', 'read', ':', 'Whispers', 'of', 'Time', '.', 'It', 'wa', 'a', 'quaint', 'little', 'place', ',', 'filled', 'to', 'the', 'brim', 'with', 'dusty', 'tome', 'and', 'forgotten', 'tale', '.', 'And', 'within', 'it', 'wall', 'lay', 'a', 'secret—a', 'tale', 'waiting', 'to', 'be', 'unearthed', '.', 'One', 'dreary', 'afternoon', ',', 'Emily', ',', 'a', 'young', 'woman', 'with', 'an', 'insatiable', 'curiosity', ',', 'stumbled', 'upon', 'the', 'bookstore', '.', 'She', 'had', 'always', 'been', 'drawn', 'to', 'the', 'mystery', 'of', 'old', 'book', 'and', 'the', 'story', 'they', 'held', 'within', 'their', 'page', '.', 'As', 'she', 'perused', 'the', 'shelf', ',', 'her', 'eye', 'fell', 'upon', 'a', 'small', ',', 'leather-bound', 'journal', 'tucked', 'away', 'in', 'a', 'corner.Intrigued', ',', 'Emily', 'carefully', 'lifted', 'the', 'journal', 'from', 'it', 'resting', 'place', 'and', 'began', 'to', 'flip', 'through', 'it', 'yellowed', 'page', '.', 'The', 'handwriting', 'within', 'wa', 'delicate', 'and', 'faded', ',', 'but', 'a', 'she', 'read', ',', 'she', 'felt', 'a', 'sense', 'of', 'wonder', 'wash', 'over', 'her', '.', 'It', 'wa', 'the', 'journal', 'of', 'a', 'traveler—a', 'person', 'who', 'had', 'journeyed', 'to', 'distant', 'land', 'and', 'encountered', 'wonder', 'beyond', 'imagination.Each', 'page', 'wa', 'filled', 'with', 'vivid', 'description', 'of', 'exotic', 'landscape', ',', 'ancient', 'ruin', ',', 'and', 'encounter', 'with', 'strange', 'and', 'wondrous', 'creature', '.', 'But', 'amidst', 'the', 'tale', 'of', 'adventure', ',', 'there', 'were', 'hint', 'of', 'something', 'darker—a', 'looming', 'shadow', 'that', 'seemed', 'to', 'follow', 'the', 'traveler', 'wherever', 'they', 'went.Emily', 'wa', 'captivated', '.', 'She', 'had', 'always', 'dreamt', 'of', 'exploring', 'the', 'world', 'beyond', 'her', 'small', 'town', ',', 'and', 'here', ',', 'in', 'this', 'forgotten', 'journal', ',', 'she', 'found', 'a', 'glimpse', 'of', 'that', 'world', 'laid', 'bare', 'before', 'her', '.', 'Determined', 'to', 'uncover', 'the', 'truth', 'behind', 'the', 'traveler', \"'s\", 'story', ',', 'she', 'set', 'out', 'on', 'a', 'quest', 'to', 'trace', 'their', 'footstep', 'and', 'unravel', 'the', 'mystery', 'that', 'had', 'been', 'left', 'behind.Armed', 'with', 'the', 'journal', 'a', 'her', 'guide', ',', 'Emily', 'embarked', 'on', 'a', 'journey', 'that', 'would', 'take', 'her', 'to', 'far-off', 'land', 'and', 'test', 'the', 'limit', 'of', 'her', 'courage', '.', 'From', 'bustling', 'marketplace', 'to', 'treacherous', 'jungle', ',', 'she', 'followed', 'in', 'the', 'footstep', 'of', 'the', 'traveler', ',', 'piecing', 'together', 'clue', 'and', 'uncovering', 'secret', 'long', 'thought', 'lost', 'to', 'time.But', 'with', 'each', 'discovery', 'came', 'new', 'question', ',', 'and', 'Emily', 'soon', 'found', 'herself', 'entangled', 'in', 'a', 'web', 'of', 'mystery', 'and', 'intrigue', '.', 'Who', 'wa', 'the', 'traveler', ',', 'and', 'what', 'had', 'driven', 'them', 'to', 'seek', 'out', 'such', 'distant', 'and', 'perilous', 'shore', '?', 'And', 'what', 'wa', 'the', 'truth', 'behind', 'the', 'shadow', 'that', 'seemed', 'to', 'haunt', 'their', 'every', 'step', '?', 'As', 'Emily', 'delved', 'deeper', 'into', 'the', 'heart', 'of', 'the', 'mystery', ',', 'she', 'soon', 'realized', 'that', 'the', 'answer', 'she', 'sought', 'lay', 'not', 'only', 'in', 'the', 'page', 'of', 'the', 'journal', 'but', 'within', 'herself', 'a', 'well', '.', 'For', 'in', 'her', 'quest', 'for', 'truth', ',', 'she', 'had', 'discovered', 'a', 'strength', 'and', 'resilience', 'she', 'never', 'knew', 'she', 'possessed—a', 'courage', 'that', 'would', 'carry', 'her', 'through', 'even', 'the', 'darkest', 'of', 'times.In', 'the', 'end', ',', 'it', 'wa', 'not', 'just', 'the', 'mystery', 'of', 'the', 'traveler', \"'s\", 'tale', 'that', 'Emily', 'unraveled', ',', 'but', 'also', 'the', 'mystery', 'of', 'her', 'own', 'heart', '.', 'And', 'though', 'the', 'journey', 'had', 'been', 'long', 'and', 'fraught', 'with', 'danger', ',', 'she', 'emerged', 'from', 'it', 'not', 'a', 'the', 'same', 'timid', 'girl', 'who', 'had', 'entered', 'the', 'bookstore', 'that', 'fateful', 'afternoon', ',', 'but', 'a', 'a', 'brave', 'and', 'fearless', 'explorer', 'of', 'the', 'world', 'and', 'all', 'it', 'wonder', '.']\n"
     ]
    }
   ],
   "source": [
    "lem = WordNetLemmatizer()\n",
    "lemmatized_word = [lem.lemmatize(word) for word in tokens]\n",
    "print(lemmatized_word)"
   ]
  },
  {
   "cell_type": "code",
   "execution_count": 7,
   "metadata": {},
   "outputs": [
    {
     "name": "stdout",
     "output_type": "stream",
     "text": [
      "stop_words: {'m', 'can', 'have', 'been', 'above', 'ain', 'herself', 'own', 'your', 'we', 'each', 'does', 'won', 'why', 'and', 'y', \"shan't\", \"wouldn't\", 'ma', 'shouldn', 'very', 'it', 'as', \"mightn't\", 'wouldn', \"shouldn't\", 's', 'them', 'they', 'now', 'these', 'into', 'who', 'in', 'theirs', 'nor', 'some', 'too', \"it's\", 'shan', 'his', 'only', 't', 'yours', 'o', 'are', \"hadn't\", \"aren't\", 'there', 'having', 'where', 'be', 'off', 'by', 'me', \"don't\", 'my', 'against', 'ourselves', \"couldn't\", \"you've\", \"you're\", 'haven', 'do', 'any', 'yourselves', 'over', 'didn', 'through', 'mightn', 'being', 'with', 'just', 'she', 'ours', 'hadn', 'than', 'he', 'that', 'isn', 'during', 'few', 'before', \"won't\", 'how', \"she's\", 'further', 'the', 'was', 'whom', 'should', \"wasn't\", 'him', 'until', 'then', 'such', 'did', 'which', 'himself', 'between', 'mustn', 'at', 'doesn', \"mustn't\", 'down', 'weren', 'had', 'more', 'd', 'itself', \"weren't\", \"you'd\", 'you', 'so', 'her', \"haven't\", 'those', 'am', 'once', \"hasn't\", 've', \"that'll\", 'other', 'this', 'all', 'what', 'here', 'to', 'yourself', 'both', 'not', 'up', \"should've\", 'i', 'but', 'a', 'couldn', 'doing', 'again', \"didn't\", 'below', \"doesn't\", 'our', 'will', 'on', 'needn', 'its', 'were', 'when', 'same', \"you'll\", 'themselves', 'hasn', 'an', 'under', 'is', 'out', 'their', 'no', 'after', 'of', 'if', 'because', 'hers', 'has', 'about', 'most', 'from', 'myself', \"isn't\", 'wasn', 'don', 'while', 'aren', 're', 'for', \"needn't\", 'll', 'or'}\n",
      "\n",
      "filtered_story:  ['In', 'the', 'quiet', 'town', 'of', 'Willowbrook', 'nestled', 'between', 'rolling', 'hills', 'and', 'meandering', 'streams', 'there', 'stood', 'an', 'old', 'bookstore', 'with', 'a', 'weathered', 'sign', 'that', 'read', 'Whispers', 'of', 'Time', 'It', 'was', 'a', 'quaint', 'little', 'place', 'filled', 'to', 'the', 'brim', 'with', 'dusty', 'tomes', 'and', 'forgotten', 'tales', 'And', 'within', 'its', 'walls', 'lay', 'a', 'tale', 'waiting', 'to', 'be', 'unearthed', 'One', 'dreary', 'afternoon', 'Emily', 'a', 'young', 'woman', 'with', 'an', 'insatiable', 'curiosity', 'stumbled', 'upon', 'the', 'bookstore', 'She', 'had', 'always', 'been', 'drawn', 'to', 'the', 'mystery', 'of', 'old', 'books', 'and', 'the', 'stories', 'they', 'held', 'within', 'their', 'pages', 'As', 'she', 'perused', 'the', 'shelves', 'her', 'eyes', 'fell', 'upon', 'a', 'small', 'journal', 'tucked', 'away', 'in', 'a', 'Emily', 'carefully', 'lifted', 'the', 'journal', 'from', 'its', 'resting', 'place', 'and', 'began', 'to', 'flip', 'through', 'its', 'yellowed', 'pages', 'The', 'handwriting', 'within', 'was', 'delicate', 'and', 'faded', 'but', 'as', 'she', 'read', 'she', 'felt', 'a', 'sense', 'of', 'wonder', 'wash', 'over', 'her', 'It', 'was', 'the', 'journal', 'of', 'a', 'person', 'who', 'had', 'journeyed', 'to', 'distant', 'lands', 'and', 'encountered', 'wonders', 'beyond', 'page', 'was', 'filled', 'with', 'vivid', 'descriptions', 'of', 'exotic', 'landscapes', 'ancient', 'ruins', 'and', 'encounters', 'with', 'strange', 'and', 'wondrous', 'creatures', 'But', 'amidst', 'the', 'tales', 'of', 'adventure', 'there', 'were', 'hints', 'of', 'something', 'looming', 'shadow', 'that', 'seemed', 'to', 'follow', 'the', 'traveler', 'wherever', 'they', 'was', 'captivated', 'She', 'had', 'always', 'dreamt', 'of', 'exploring', 'the', 'world', 'beyond', 'her', 'small', 'town', 'and', 'here', 'in', 'this', 'forgotten', 'journal', 'she', 'found', 'a', 'glimpse', 'of', 'that', 'world', 'laid', 'bare', 'before', 'her', 'Determined', 'to', 'uncover', 'the', 'truth', 'behind', 'the', 'traveler', 'story', 'she', 'set', 'out', 'on', 'a', 'quest', 'to', 'trace', 'their', 'footsteps', 'and', 'unravel', 'the', 'mystery', 'that', 'had', 'been', 'left', 'with', 'the', 'journal', 'as', 'her', 'guide', 'Emily', 'embarked', 'on', 'a', 'journey', 'that', 'would', 'take', 'her', 'to', 'lands', 'and', 'test', 'the', 'limits', 'of', 'her', 'courage', 'From', 'bustling', 'marketplaces', 'to', 'treacherous', 'jungles', 'she', 'followed', 'in', 'the', 'footsteps', 'of', 'the', 'traveler', 'piecing', 'together', 'clues', 'and', 'uncovering', 'secrets', 'long', 'thought', 'lost', 'to', 'with', 'each', 'discovery', 'came', 'new', 'questions', 'and', 'Emily', 'soon', 'found', 'herself', 'entangled', 'in', 'a', 'web', 'of', 'mystery', 'and', 'intrigue', 'Who', 'was', 'the', 'traveler', 'and', 'what', 'had', 'driven', 'them', 'to', 'seek', 'out', 'such', 'distant', 'and', 'perilous', 'shores', 'And', 'what', 'was', 'the', 'truth', 'behind', 'the', 'shadow', 'that', 'seemed', 'to', 'haunt', 'their', 'every', 'step', 'As', 'Emily', 'delved', 'deeper', 'into', 'the', 'heart', 'of', 'the', 'mystery', 'she', 'soon', 'realized', 'that', 'the', 'answers', 'she', 'sought', 'lay', 'not', 'only', 'in', 'the', 'pages', 'of', 'the', 'journal', 'but', 'within', 'herself', 'as', 'well', 'For', 'in', 'her', 'quest', 'for', 'truth', 'she', 'had', 'discovered', 'a', 'strength', 'and', 'resilience', 'she', 'never', 'knew', 'she', 'courage', 'that', 'would', 'carry', 'her', 'through', 'even', 'the', 'darkest', 'of', 'the', 'end', 'it', 'was', 'not', 'just', 'the', 'mystery', 'of', 'the', 'traveler', 'tale', 'that', 'Emily', 'unraveled', 'but', 'also', 'the', 'mystery', 'of', 'her', 'own', 'heart', 'And', 'though', 'the', 'journey', 'had', 'been', 'long', 'and', 'fraught', 'with', 'danger', 'she', 'emerged', 'from', 'it', 'not', 'as', 'the', 'same', 'timid', 'girl', 'who', 'had', 'entered', 'the', 'bookstore', 'that', 'fateful', 'afternoon', 'but', 'as', 'a', 'brave', 'and', 'fearless', 'explorer', 'of', 'the', 'world', 'and', 'all', 'its', 'wonders']\n",
      "\n",
      "filtered_story_text: In the quiet town of Willowbrook nestled between rolling hills and meandering streams there stood an old bookstore with a weathered sign that read Whispers of Time It was a quaint little place filled to the brim with dusty tomes and forgotten tales And within its walls lay a tale waiting to be unearthed One dreary afternoon Emily a young woman with an insatiable curiosity stumbled upon the bookstore She had always been drawn to the mystery of old books and the stories they held within their pages As she perused the shelves her eyes fell upon a small journal tucked away in a Emily carefully lifted the journal from its resting place and began to flip through its yellowed pages The handwriting within was delicate and faded but as she read she felt a sense of wonder wash over her It was the journal of a person who had journeyed to distant lands and encountered wonders beyond page was filled with vivid descriptions of exotic landscapes ancient ruins and encounters with strange and wondrous creatures But amidst the tales of adventure there were hints of something looming shadow that seemed to follow the traveler wherever they was captivated She had always dreamt of exploring the world beyond her small town and here in this forgotten journal she found a glimpse of that world laid bare before her Determined to uncover the truth behind the traveler story she set out on a quest to trace their footsteps and unravel the mystery that had been left with the journal as her guide Emily embarked on a journey that would take her to lands and test the limits of her courage From bustling marketplaces to treacherous jungles she followed in the footsteps of the traveler piecing together clues and uncovering secrets long thought lost to with each discovery came new questions and Emily soon found herself entangled in a web of mystery and intrigue Who was the traveler and what had driven them to seek out such distant and perilous shores And what was the truth behind the shadow that seemed to haunt their every step As Emily delved deeper into the heart of the mystery she soon realized that the answers she sought lay not only in the pages of the journal but within herself as well For in her quest for truth she had discovered a strength and resilience she never knew she courage that would carry her through even the darkest of the end it was not just the mystery of the traveler tale that Emily unraveled but also the mystery of her own heart And though the journey had been long and fraught with danger she emerged from it not as the same timid girl who had entered the bookstore that fateful afternoon but as a brave and fearless explorer of the world and all its wonders\n"
     ]
    }
   ],
   "source": [
    "stop_words = set(stopwords.words('english'))\n",
    "story_no_punct = re.sub(r'[^\\w\\s]', '', story)\n",
    "filtered_words = [word for word in tokens if word in story_no_punct]\n",
    "filtered_story_text = ' '.join(filtered_words)\n",
    "\n",
    "\n",
    " \n",
    "print('stop_words:',stop_words)\n",
    "print('\\nfiltered_story: ',filtered_words)\n",
    "print('\\nfiltered_story_text:',filtered_story_text)\n",
    "\n"
   ]
  },
  {
   "cell_type": "code",
   "execution_count": 8,
   "metadata": {},
   "outputs": [
    {
     "name": "stdout",
     "output_type": "stream",
     "text": [
      "In: 1\n",
      "the: 35\n",
      "quiet: 1\n",
      "town: 2\n",
      "of: 19\n",
      "Willowbrook: 1\n",
      "nestled: 1\n",
      "between: 1\n",
      "rolling: 1\n",
      "hills: 1\n",
      "and: 20\n",
      "meandering: 1\n",
      "streams: 1\n",
      "there: 2\n",
      "stood: 1\n",
      "an: 2\n",
      "old: 2\n",
      "bookstore: 3\n",
      "with: 8\n",
      "a: 14\n",
      "weathered: 1\n",
      "sign: 1\n",
      "that: 10\n",
      "read: 2\n",
      "Whispers: 1\n",
      "Time: 1\n",
      "It: 2\n",
      "was: 8\n",
      "quaint: 1\n",
      "little: 1\n",
      "place: 2\n",
      "filled: 2\n",
      "to: 13\n",
      "brim: 1\n",
      "dusty: 1\n",
      "tomes: 1\n",
      "forgotten: 2\n",
      "tales: 2\n",
      "And: 3\n",
      "within: 4\n",
      "its: 4\n",
      "walls: 1\n",
      "lay: 2\n",
      "tale: 2\n",
      "waiting: 1\n",
      "be: 1\n",
      "unearthed: 1\n",
      "One: 1\n",
      "dreary: 1\n",
      "afternoon: 2\n",
      "Emily: 6\n",
      "young: 1\n",
      "woman: 1\n",
      "insatiable: 1\n",
      "curiosity: 1\n",
      "stumbled: 1\n",
      "upon: 2\n",
      "She: 2\n",
      "had: 8\n",
      "always: 2\n",
      "been: 3\n",
      "drawn: 1\n",
      "mystery: 6\n",
      "books: 1\n",
      "stories: 1\n",
      "they: 2\n",
      "held: 1\n",
      "their: 3\n",
      "pages: 3\n",
      "As: 2\n",
      "she: 12\n",
      "perused: 1\n",
      "shelves: 1\n",
      "her: 10\n",
      "eyes: 1\n",
      "fell: 1\n",
      "small: 2\n",
      "journal: 6\n",
      "tucked: 1\n",
      "away: 1\n",
      "in: 6\n",
      "carefully: 1\n",
      "lifted: 1\n",
      "from: 2\n",
      "resting: 1\n",
      "began: 1\n",
      "flip: 1\n",
      "through: 2\n",
      "yellowed: 1\n",
      "The: 1\n",
      "handwriting: 1\n",
      "delicate: 1\n",
      "faded: 1\n",
      "but: 4\n",
      "as: 5\n",
      "felt: 1\n",
      "sense: 1\n",
      "wonder: 1\n",
      "wash: 1\n",
      "over: 1\n",
      "person: 1\n",
      "who: 2\n",
      "journeyed: 1\n",
      "distant: 2\n",
      "lands: 2\n",
      "encountered: 1\n",
      "wonders: 2\n",
      "beyond: 2\n",
      "page: 1\n",
      "vivid: 1\n",
      "descriptions: 1\n",
      "exotic: 1\n",
      "landscapes: 1\n",
      "ancient: 1\n",
      "ruins: 1\n",
      "encounters: 1\n",
      "strange: 1\n",
      "wondrous: 1\n",
      "creatures: 1\n",
      "But: 1\n",
      "amidst: 1\n",
      "adventure: 1\n",
      "were: 1\n",
      "hints: 1\n",
      "something: 1\n",
      "looming: 1\n",
      "shadow: 2\n",
      "seemed: 2\n",
      "follow: 1\n",
      "traveler: 5\n",
      "wherever: 1\n",
      "captivated: 1\n",
      "dreamt: 1\n",
      "exploring: 1\n",
      "world: 3\n",
      "here: 1\n",
      "this: 1\n",
      "found: 2\n",
      "glimpse: 1\n",
      "laid: 1\n",
      "bare: 1\n",
      "before: 1\n",
      "Determined: 1\n",
      "uncover: 1\n",
      "truth: 3\n",
      "behind: 2\n",
      "story: 1\n",
      "set: 1\n",
      "out: 2\n",
      "on: 2\n",
      "quest: 2\n",
      "trace: 1\n",
      "footsteps: 2\n",
      "unravel: 1\n",
      "left: 1\n",
      "guide: 1\n",
      "embarked: 1\n",
      "journey: 2\n",
      "would: 2\n",
      "take: 1\n",
      "test: 1\n",
      "limits: 1\n",
      "courage: 2\n",
      "From: 1\n",
      "bustling: 1\n",
      "marketplaces: 1\n",
      "treacherous: 1\n",
      "jungles: 1\n",
      "followed: 1\n",
      "piecing: 1\n",
      "together: 1\n",
      "clues: 1\n",
      "uncovering: 1\n",
      "secrets: 1\n",
      "long: 2\n",
      "thought: 1\n",
      "lost: 1\n",
      "each: 1\n",
      "discovery: 1\n",
      "came: 1\n",
      "new: 1\n",
      "questions: 1\n",
      "soon: 2\n",
      "herself: 2\n",
      "entangled: 1\n",
      "web: 1\n",
      "intrigue: 1\n",
      "Who: 1\n",
      "what: 2\n",
      "driven: 1\n",
      "them: 1\n",
      "seek: 1\n",
      "such: 1\n",
      "perilous: 1\n",
      "shores: 1\n",
      "haunt: 1\n",
      "every: 1\n",
      "step: 1\n",
      "delved: 1\n",
      "deeper: 1\n",
      "into: 1\n",
      "heart: 2\n",
      "realized: 1\n",
      "answers: 1\n",
      "sought: 1\n",
      "not: 3\n",
      "only: 1\n",
      "well: 1\n",
      "For: 1\n",
      "for: 1\n",
      "discovered: 1\n",
      "strength: 1\n",
      "resilience: 1\n",
      "never: 1\n",
      "knew: 1\n",
      "carry: 1\n",
      "even: 1\n",
      "darkest: 1\n",
      "end: 1\n",
      "it: 2\n",
      "just: 1\n",
      "unraveled: 1\n",
      "also: 1\n",
      "own: 1\n",
      "though: 1\n",
      "fraught: 1\n",
      "danger: 1\n",
      "emerged: 1\n",
      "same: 1\n",
      "timid: 1\n",
      "girl: 1\n",
      "entered: 1\n",
      "fateful: 1\n",
      "brave: 1\n",
      "fearless: 1\n",
      "explorer: 1\n",
      "all: 1\n"
     ]
    }
   ],
   "source": [
    "\n",
    "word_freq = Counter(filtered_words)\n",
    "for words , frequency in word_freq.items():\n",
    "    print(f\"{words}: {frequency}\")"
   ]
  },
  {
   "cell_type": "code",
   "execution_count": null,
   "metadata": {},
   "outputs": [],
   "source": []
  }
 ],
 "metadata": {
  "kernelspec": {
   "display_name": "Python 3",
   "language": "python",
   "name": "python3"
  },
  "language_info": {
   "codemirror_mode": {
    "name": "ipython",
    "version": 3
   },
   "file_extension": ".py",
   "mimetype": "text/x-python",
   "name": "python",
   "nbconvert_exporter": "python",
   "pygments_lexer": "ipython3",
   "version": "3.12.1"
  }
 },
 "nbformat": 4,
 "nbformat_minor": 2
}
